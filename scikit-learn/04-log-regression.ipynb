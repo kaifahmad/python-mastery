{
 "cells": [
  {
   "attachments": {},
   "cell_type": "markdown",
   "metadata": {},
   "source": [
    "***Import all Packages ans datasets***  "
   ]
  },
  {
   "cell_type": "code",
   "execution_count": 98,
   "metadata": {},
   "outputs": [],
   "source": [
    "import numpy as np\n",
    "from sklearn import datasets\n",
    "from sklearn.linear_model import LogisticRegression\n",
    "import matplotlib.pyplot as plt\n",
    "iris = datasets.load_iris()"
   ]
  },
  {
   "cell_type": "code",
   "execution_count": 99,
   "metadata": {},
   "outputs": [],
   "source": [
    "# print Sample data\n",
    "x_input = iris[\"data\"][:-10,3:]\n",
    "x_output = (iris[\"target\"][:-10] == 2).astype(np.int8)\n",
    "x_test_input:np.array = iris[\"data\"][-10:,3:]\n",
    "x_test_pred_output = (iris[\"target\"][-10:]== 2).astype(np.int8)\n"
   ]
  },
  {
   "attachments": {},
   "cell_type": "markdown",
   "metadata": {},
   "source": [
    "Probabilty that its an Iris flower and corresponding actoal results"
   ]
  },
  {
   "cell_type": "code",
   "execution_count": 100,
   "metadata": {},
   "outputs": [
    {
     "name": "stdout",
     "output_type": "stream",
     "text": [
      "[[0.95003928]\n",
      " [0.92637616]\n",
      " [0.70692429]\n",
      " [0.92637616]\n",
      " [0.96637301]\n",
      " [0.92637616]\n",
      " [0.70692429]\n",
      " [0.78473011]\n",
      " [0.92637616]\n",
      " [0.61480085]]\n",
      "[1 1 1 1 1 1 1 1 1 1]\n"
     ]
    }
   ],
   "source": [
    "clf = LogisticRegression()\n",
    "clf.fit(x_input,x_output)\n",
    "x_predict_out = clf.predict_proba(x_test_input)[:,1:]\n",
    "print(x_predict_out)\n",
    "print(x_test_pred_output)"
   ]
  },
  {
   "attachments": {},
   "cell_type": "markdown",
   "metadata": {},
   "source": [
    "Now lets do some plotting"
   ]
  },
  {
   "cell_type": "code",
   "execution_count": null,
   "metadata": {},
   "outputs": [],
   "source": []
  }
 ],
 "metadata": {
  "kernelspec": {
   "display_name": "ml-env",
   "language": "python",
   "name": "python3"
  },
  "language_info": {
   "codemirror_mode": {
    "name": "ipython",
    "version": 3
   },
   "file_extension": ".py",
   "mimetype": "text/x-python",
   "name": "python",
   "nbconvert_exporter": "python",
   "pygments_lexer": "ipython3",
   "version": "3.8.10"
  },
  "orig_nbformat": 4
 },
 "nbformat": 4,
 "nbformat_minor": 2
}
