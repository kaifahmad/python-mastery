{
 "cells": [
  {
   "attachments": {},
   "cell_type": "markdown",
   "metadata": {},
   "source": [
    "**House Price Prediction Project**\n",
    "\n",
    "Data retrieved from: https://archive.ics.uci.edu/ml/machine-learning-databases/housing/\n"
   ]
  },
  {
   "cell_type": "code",
   "execution_count": 90,
   "metadata": {},
   "outputs": [],
   "source": [
    "import numpy as np\n",
    "import pandas as pd\n",
    "from sklearn.linear_model import LogisticRegression\n",
    "import matplotlib.pyplot as plt"
   ]
  },
  {
   "attachments": {},
   "cell_type": "markdown",
   "metadata": {},
   "source": [
    "Import data in pandas dataframe from a text file\n"
   ]
  },
  {
   "cell_type": "code",
   "execution_count": 91,
   "metadata": {},
   "outputs": [],
   "source": [
    "# house_dataframe = pd.DataFrame()\n",
    "house_dataframe = pd.DataFrame(columns=[\"CRIM\",\"ZN\",\"INDUS\",\"CHAS\",\"NOX\",\"RM\",\"AGE\",\"DIS\",\"RAD\",\"TAX\",\"PTRA\",\"B\",\"LSTA\",\"MEDV\"])\n",
    "with open(\"../data/housing-data.txt\", \"r\") as txt_file:\n",
    "    for line in txt_file:\n",
    "       split_line = line.split()\n",
    "       house_dataframe.loc[len(house_dataframe)] = split_line\n",
    "    #    house_dataframe =house_dataframe.add(split_line)\n",
    "       "
   ]
  },
  {
   "attachments": {},
   "cell_type": "markdown",
   "metadata": {},
   "source": [
    "See the Created data"
   ]
  },
  {
   "cell_type": "code",
   "execution_count": 92,
   "metadata": {},
   "outputs": [
    {
     "name": "stdout",
     "output_type": "stream",
     "text": [
      "(506, 14)\n",
      "      CRIM     ZN  INDUS CHAS     NOX      RM    AGE     DIS RAD    TAX   \n",
      "0  0.00632  18.00  2.310    0  0.5380  6.5750  65.20  4.0900   1  296.0  \\\n",
      "1  0.02731   0.00  7.070    0  0.4690  6.4210  78.90  4.9671   2  242.0   \n",
      "\n",
      "    PTRA       B  LSTA   MEDV  \n",
      "0  15.30  396.90  4.98  24.00  \n",
      "1  17.80  396.90  9.14  21.60  \n"
     ]
    }
   ],
   "source": [
    "print(house_dataframe.shape)\n",
    "print(house_dataframe.head(2))\n",
    "house_dataframe.to_csv('data.csv')"
   ]
  },
  {
   "cell_type": "code",
   "execution_count": null,
   "metadata": {},
   "outputs": [],
   "source": []
  }
 ],
 "metadata": {
  "kernelspec": {
   "display_name": "ml-env",
   "language": "python",
   "name": "python3"
  },
  "language_info": {
   "codemirror_mode": {
    "name": "ipython",
    "version": 3
   },
   "file_extension": ".py",
   "mimetype": "text/x-python",
   "name": "python",
   "nbconvert_exporter": "python",
   "pygments_lexer": "ipython3",
   "version": "3.8.10"
  },
  "orig_nbformat": 4
 },
 "nbformat": 4,
 "nbformat_minor": 2
}
