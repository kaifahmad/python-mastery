{
 "cells": [
  {
   "cell_type": "code",
   "execution_count": 1,
   "metadata": {},
   "outputs": [],
   "source": [
    "import numpy as np\n",
    "import pandas as pd\n",
    "from pandas import Series, DataFrame"
   ]
  },
  {
   "cell_type": "markdown",
   "metadata": {},
   "source": [
    "A Series is a one-dimensional array-like object containing a sequence of values (of similar types to NumPy types) of the same type and an associated array of data labels, called its index.    "
   ]
  },
  {
   "cell_type": "code",
   "execution_count": 2,
   "metadata": {},
   "outputs": [],
   "source": [
    "obj = pd.Series([4, 7, -5, 3])"
   ]
  },
  {
   "cell_type": "code",
   "execution_count": 3,
   "metadata": {},
   "outputs": [
    {
     "data": {
      "text/plain": [
       "0    4\n",
       "1    7\n",
       "3    3\n",
       "dtype: int64"
      ]
     },
     "execution_count": 3,
     "metadata": {},
     "output_type": "execute_result"
    }
   ],
   "source": [
    "obj[obj>2]"
   ]
  },
  {
   "cell_type": "markdown",
   "metadata": {},
   "source": [
    "Should you have data contained in a Python dictionary, you can create a Series from it by passing the dictionary:"
   ]
  },
  {
   "cell_type": "code",
   "execution_count": 4,
   "metadata": {},
   "outputs": [
    {
     "data": {
      "text/plain": [
       "Ohio      35000\n",
       "Texas     71000\n",
       "Oregon    16000\n",
       "Utah       5000\n",
       "dtype: int64"
      ]
     },
     "execution_count": 4,
     "metadata": {},
     "output_type": "execute_result"
    }
   ],
   "source": [
    "sdata = {\"Ohio\": 35000, \"Texas\": 71000, \"Oregon\": 16000, \"Utah\": 5000}\n",
    "obj3 = pd.Series(sdata)\n",
    "obj3"
   ]
  },
  {
   "cell_type": "markdown",
   "metadata": {},
   "source": [
    "Convert back to dict"
   ]
  },
  {
   "cell_type": "code",
   "execution_count": 5,
   "metadata": {},
   "outputs": [
    {
     "data": {
      "text/plain": [
       "{'Ohio': 35000, 'Texas': 71000, 'Oregon': 16000, 'Utah': 5000}"
      ]
     },
     "execution_count": 5,
     "metadata": {},
     "output_type": "execute_result"
    }
   ],
   "source": [
    "obj3.to_dict()"
   ]
  },
  {
   "cell_type": "markdown",
   "metadata": {},
   "source": [
    "When you are only passing a dictionary, the index in the resulting Series will respect the order of the keys according to the dictionary’s keys method, which depends on the key insertion order\n",
    "You can override this by passing an index with the dictionary keys in the order you want them to appear in the resulting Series:    "
   ]
  },
  {
   "cell_type": "code",
   "execution_count": 7,
   "metadata": {},
   "outputs": [
    {
     "data": {
      "text/plain": [
       "California        NaN\n",
       "Ohio          35000.0\n",
       "Oregon        16000.0\n",
       "Texas         71000.0\n",
       "dtype: float64"
      ]
     },
     "execution_count": 7,
     "metadata": {},
     "output_type": "execute_result"
    }
   ],
   "source": [
    "states = [\"California\", \"Ohio\", \"Oregon\", \"Texas\"]\n",
    "obj4 = pd.Series(sdata, index=states)\n",
    "obj4"
   ]
  },
  {
   "cell_type": "markdown",
   "metadata": {},
   "source": [
    "The isna and notna functions in pandas should be used to detect missing data:"
   ]
  },
  {
   "cell_type": "code",
   "execution_count": 8,
   "metadata": {},
   "outputs": [
    {
     "data": {
      "text/plain": [
       "California     True\n",
       "Ohio          False\n",
       "Oregon        False\n",
       "Texas         False\n",
       "dtype: bool"
      ]
     },
     "execution_count": 8,
     "metadata": {},
     "output_type": "execute_result"
    }
   ],
   "source": [
    "pd.isna(obj4)"
   ]
  },
  {
   "cell_type": "code",
   "execution_count": 10,
   "metadata": {},
   "outputs": [
    {
     "data": {
      "text/plain": [
       "State\n",
       "California        NaN\n",
       "Ohio          35000.0\n",
       "Oregon        16000.0\n",
       "Texas         71000.0\n",
       "Name: Population, dtype: float64"
      ]
     },
     "execution_count": 10,
     "metadata": {},
     "output_type": "execute_result"
    }
   ],
   "source": [
    "obj4.name = \"Population\"\n",
    "obj4.index.name = \"State\"\n",
    "obj4"
   ]
  },
  {
   "cell_type": "markdown",
   "metadata": {},
   "source": [
    "## Dataframe"
   ]
  },
  {
   "cell_type": "markdown",
   "metadata": {},
   "source": [
    "Reading Data Frame from csv file"
   ]
  },
  {
   "cell_type": "code",
   "execution_count": 31,
   "metadata": {},
   "outputs": [
    {
     "data": {
      "text/plain": [
       "Timestamp             object\n",
       "open                 float64\n",
       "Close                float64\n",
       "High                 float64\n",
       "Low                  float64\n",
       "Volume                 int64\n",
       "Date                  object\n",
       "Day                    int64\n",
       "Candle                object\n",
       "Points               float64\n",
       "Percentage Change    float64\n",
       "dtype: object"
      ]
     },
     "execution_count": 31,
     "metadata": {},
     "output_type": "execute_result"
    }
   ],
   "source": [
    "headers = [\"Timestamp\",\"open\",\"Close\",\"High\",\"Low\",\"Volume\",\"Date\",\"Day\",\"Candle\",\"Points\",\"Percentage Change\"]\n",
    "nifty_df = pd.read_csv('../files/nifty_60minute.csv',names=headers)\n",
    "nifty_df.dtypes "
   ]
  },
  {
   "cell_type": "code",
   "execution_count": 34,
   "metadata": {},
   "outputs": [
    {
     "data": {
      "text/html": [
       "<div>\n",
       "<style scoped>\n",
       "    .dataframe tbody tr th:only-of-type {\n",
       "        vertical-align: middle;\n",
       "    }\n",
       "\n",
       "    .dataframe tbody tr th {\n",
       "        vertical-align: top;\n",
       "    }\n",
       "\n",
       "    .dataframe thead th {\n",
       "        text-align: right;\n",
       "    }\n",
       "</style>\n",
       "<table border=\"1\" class=\"dataframe\">\n",
       "  <thead>\n",
       "    <tr style=\"text-align: right;\">\n",
       "      <th></th>\n",
       "      <th>Timestamp</th>\n",
       "      <th>open</th>\n",
       "      <th>Close</th>\n",
       "      <th>High</th>\n",
       "      <th>Low</th>\n",
       "      <th>Volume</th>\n",
       "      <th>Date</th>\n",
       "      <th>Day</th>\n",
       "      <th>Candle</th>\n",
       "      <th>Points</th>\n",
       "      <th>Percentage Change</th>\n",
       "    </tr>\n",
       "  </thead>\n",
       "  <tbody>\n",
       "    <tr>\n",
       "      <th>14633</th>\n",
       "      <td>2023-07-03T13:15:00+0530</td>\n",
       "      <td>19320.30</td>\n",
       "      <td>19327.10</td>\n",
       "      <td>19300.75</td>\n",
       "      <td>19304.60</td>\n",
       "      <td>0</td>\n",
       "      <td>2023-07-03</td>\n",
       "      <td>0</td>\n",
       "      <td>T13_15</td>\n",
       "      <td>121.40</td>\n",
       "      <td>0.63</td>\n",
       "    </tr>\n",
       "    <tr>\n",
       "      <th>14634</th>\n",
       "      <td>2023-07-03T14:15:00+0530</td>\n",
       "      <td>19304.20</td>\n",
       "      <td>19329.85</td>\n",
       "      <td>19288.60</td>\n",
       "      <td>19316.20</td>\n",
       "      <td>0</td>\n",
       "      <td>2023-07-03</td>\n",
       "      <td>0</td>\n",
       "      <td>T14_15</td>\n",
       "      <td>133.00</td>\n",
       "      <td>0.69</td>\n",
       "    </tr>\n",
       "    <tr>\n",
       "      <th>14635</th>\n",
       "      <td>2023-07-03T15:15:00+0530</td>\n",
       "      <td>19316.55</td>\n",
       "      <td>19344.60</td>\n",
       "      <td>19314.75</td>\n",
       "      <td>19322.55</td>\n",
       "      <td>0</td>\n",
       "      <td>2023-07-03</td>\n",
       "      <td>0</td>\n",
       "      <td>T15_15</td>\n",
       "      <td>139.35</td>\n",
       "      <td>0.73</td>\n",
       "    </tr>\n",
       "    <tr>\n",
       "      <th>14636</th>\n",
       "      <td>2023-07-03T16:15:00+0530</td>\n",
       "      <td>19322.55</td>\n",
       "      <td>19322.55</td>\n",
       "      <td>19322.55</td>\n",
       "      <td>19322.55</td>\n",
       "      <td>0</td>\n",
       "      <td>2023-07-03</td>\n",
       "      <td>0</td>\n",
       "      <td>T16_15</td>\n",
       "      <td>139.35</td>\n",
       "      <td>0.73</td>\n",
       "    </tr>\n",
       "    <tr>\n",
       "      <th>14637</th>\n",
       "      <td>2023-07-03T17:15:00+0530</td>\n",
       "      <td>19322.55</td>\n",
       "      <td>19322.55</td>\n",
       "      <td>19322.55</td>\n",
       "      <td>19322.55</td>\n",
       "      <td>0</td>\n",
       "      <td>2023-07-03</td>\n",
       "      <td>0</td>\n",
       "      <td>T17_15</td>\n",
       "      <td>139.35</td>\n",
       "      <td>0.73</td>\n",
       "    </tr>\n",
       "  </tbody>\n",
       "</table>\n",
       "</div>"
      ],
      "text/plain": [
       "                      Timestamp      open     Close      High       Low  \\\n",
       "14633  2023-07-03T13:15:00+0530  19320.30  19327.10  19300.75  19304.60   \n",
       "14634  2023-07-03T14:15:00+0530  19304.20  19329.85  19288.60  19316.20   \n",
       "14635  2023-07-03T15:15:00+0530  19316.55  19344.60  19314.75  19322.55   \n",
       "14636  2023-07-03T16:15:00+0530  19322.55  19322.55  19322.55  19322.55   \n",
       "14637  2023-07-03T17:15:00+0530  19322.55  19322.55  19322.55  19322.55   \n",
       "\n",
       "       Volume        Date  Day  Candle  Points  Percentage Change  \n",
       "14633       0  2023-07-03    0  T13_15  121.40               0.63  \n",
       "14634       0  2023-07-03    0  T14_15  133.00               0.69  \n",
       "14635       0  2023-07-03    0  T15_15  139.35               0.73  \n",
       "14636       0  2023-07-03    0  T16_15  139.35               0.73  \n",
       "14637       0  2023-07-03    0  T17_15  139.35               0.73  "
      ]
     },
     "execution_count": 34,
     "metadata": {},
     "output_type": "execute_result"
    }
   ],
   "source": [
    "nifty_df.tail(5)"
   ]
  },
  {
   "cell_type": "code",
   "execution_count": 38,
   "metadata": {},
   "outputs": [
    {
     "data": {
      "text/plain": [
       "Timestamp            2023-07-03T17:15:00+0530\n",
       "open                                 19322.55\n",
       "Close                                19322.55\n",
       "High                                 19322.55\n",
       "Low                                  19322.55\n",
       "Volume                                      0\n",
       "Date                               2023-07-03\n",
       "Day                                         0\n",
       "Candle                                 T17_15\n",
       "Points                                 139.35\n",
       "Percentage Change                        0.73\n",
       "Name: 14637, dtype: object"
      ]
     },
     "execution_count": 38,
     "metadata": {},
     "output_type": "execute_result"
    }
   ],
   "source": [
    "nifty_df.iloc[-1]"
   ]
  },
  {
   "cell_type": "markdown",
   "metadata": {},
   "source": [
    "### Index Objects\n",
    "pandas’s Index objects are responsible for holding the axis labels (including a DataFrame’s column names) and other metadata (like the axis name or names)."
   ]
  },
  {
   "cell_type": "code",
   "execution_count": null,
   "metadata": {},
   "outputs": [],
   "source": []
  }
 ],
 "metadata": {
  "kernelspec": {
   "display_name": "working-env",
   "language": "python",
   "name": "python3"
  },
  "language_info": {
   "codemirror_mode": {
    "name": "ipython",
    "version": 3
   },
   "file_extension": ".py",
   "mimetype": "text/x-python",
   "name": "python",
   "nbconvert_exporter": "python",
   "pygments_lexer": "ipython3",
   "version": "3.11.5"
  },
  "orig_nbformat": 4
 },
 "nbformat": 4,
 "nbformat_minor": 2
}
